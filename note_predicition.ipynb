{
 "cells": [
  {
   "cell_type": "code",
   "execution_count": 1,
   "metadata": {},
   "outputs": [],
   "source": [
    "import  time\n",
    "from sklearn.svm import SVR\n",
    "import numpy as np\n",
    "import pandas as pd\n",
    "import matplotlib.pyplot as plt\n",
    "plt.style.use('fivethirtyeight')"
   ]
  },
  {
   "cell_type": "code",
   "execution_count": 2,
   "metadata": {},
   "outputs": [],
   "source": [
    "df = [\n",
    "    {\n",
    "        \"x\": 1,\n",
    "        \"y\": \"10\"\n",
    "    },\n",
    "    {\n",
    "        \"x\": 2,\n",
    "        \"y\": \"9\"\n",
    "    },\n",
    "    {\n",
    "        \"x\": 3,\n",
    "        \"y\": \"9\"\n",
    "    },\n",
    "    {\n",
    "        \"x\": 4,\n",
    "        \"y\": \"9\"\n",
    "    },\n",
    "    {\n",
    "        \"x\": 5,\n",
    "        \"y\": \"8\"\n",
    "    },\n",
    "    {\n",
    "        \"x\": 6,\n",
    "        \"y\": \"10\"\n",
    "    },\n",
    "    {\n",
    "        \"x\": 7,\n",
    "        \"y\": \"5\"\n",
    "    },\n",
    "    {\n",
    "        \"x\": 8,\n",
    "        \"y\": \"5\"\n",
    "    },\n",
    "    {\n",
    "        \"x\": 9,\n",
    "        \"y\": \"8\"\n",
    "    },\n",
    "    {\n",
    "        \"x\": 10,\n",
    "        \"y\": \"7\"\n",
    "    },\n",
    "    {\n",
    "        \"x\": 11,\n",
    "        \"y\": \"10\"\n",
    "    },\n",
    "    {\n",
    "        \"x\": 12,\n",
    "        \"y\": \"10\"\n",
    "    },\n",
    "    {\n",
    "        \"x\": 13,\n",
    "        \"y\": \"10\"\n",
    "    },\n",
    "    {\n",
    "        \"x\": 14,\n",
    "        \"y\": \"10\"\n",
    "    },\n",
    "    {\n",
    "        \"x\": 15,\n",
    "        \"y\": \"10\"\n",
    "    },\n",
    "    {\n",
    "        \"x\": 16,\n",
    "        \"y\": \"10\"\n",
    "    },\n",
    "    {\n",
    "        \"x\": 17,\n",
    "        \"y\": \"8\"\n",
    "    },\n",
    "    {\n",
    "        \"x\": 18,\n",
    "        \"y\": \"10\"\n",
    "    },\n",
    "    {\n",
    "        \"x\": 19,\n",
    "        \"y\": \"10\"\n",
    "    },\n",
    "    {\n",
    "        \"x\": 20,\n",
    "        \"y\": \"6\"\n",
    "    },\n",
    "    {\n",
    "        \"x\": 21,\n",
    "        \"y\": \"10\"\n",
    "    },\n",
    "    {\n",
    "        \"x\": 22,\n",
    "        \"y\": \"6\"\n",
    "    },\n",
    "    {\n",
    "        \"x\": 23,\n",
    "        \"y\": \"5\"\n",
    "    },\n",
    "    {\n",
    "        \"x\": 24,\n",
    "        \"y\": \"10\"\n",
    "    },\n",
    "    {\n",
    "        \"x\": 25,\n",
    "        \"y\": \"10\"\n",
    "    },\n",
    "    {\n",
    "        \"x\": 26,\n",
    "        \"y\": \"10\"\n",
    "    },\n",
    "    {\n",
    "        \"x\": 27,\n",
    "        \"y\": \"10\"\n",
    "    },\n",
    "    {\n",
    "        \"x\": 28,\n",
    "        \"y\": \"10\"\n",
    "    }\n",
    "]"
   ]
  },
  {
   "cell_type": "code",
   "execution_count": 3,
   "metadata": {},
   "outputs": [],
   "source": [
    "x = list()\n",
    "y = list()"
   ]
  },
  {
   "cell_type": "code",
   "execution_count": 4,
   "metadata": {},
   "outputs": [],
   "source": [
    "# Create the independent data set (x) and (y)\n",
    "for item in df:\n",
    "    for key in item:\n",
    "        if key=='x':\n",
    "            x.append([int(item[key])])\n",
    "        if key=='y':\n",
    "            y.append([int(item[key])])"
   ]
  },
  {
   "cell_type": "code",
   "execution_count": 5,
   "metadata": {},
   "outputs": [
    {
     "name": "stdout",
     "output_type": "stream",
     "text": [
      "0.0031876680000002544\n"
     ]
    },
    {
     "name": "stderr",
     "output_type": "stream",
     "text": [
      "/Users/x123/opt/anaconda3/lib/python3.8/site-packages/sklearn/utils/validation.py:72: DataConversionWarning: A column-vector y was passed when a 1d array was expected. Please change the shape of y to (n_samples, ), for example using ravel().\n",
      "  return f(**kwargs)\n"
     ]
    }
   ],
   "source": [
    "rbf_svr = SVR(kernel='rbf', C = 10000.0, gamma=0.5)\n",
    "ft = time.perf_counter()\n",
    "rbf_svr.fit(x,y)\n",
    "print(time.perf_counter()-ft)"
   ]
  },
  {
   "cell_type": "code",
   "execution_count": 6,
   "metadata": {},
   "outputs": [
    {
     "data": {
      "image/png": "[encoded data removed]",
      "text/plain": [
       "<Figure size 432x288 with 1 Axes>"
      ]
     },
     "metadata": {},
     "output_type": "display_data"
    }
   ],
   "source": [
    "plt.scatter(x, y,color=\"black\", label=\"Data\")\n",
    "last_x = x[len(x)-1][0];\n",
    "for i in range(1,2):\n",
    "    x.append([int(last_x+i)])\n",
    "plt.plot(x, rbf_svr.predict(x), color = \"green\", label = \"RBF Model\")\n",
    "#plt.plot(days, poly_svr.predict(days), color = \"orange\", label = \"Polynomial Model\")\n",
    "#plt.plot(days, lin_svr.predict(days), color = \"blue\", label = \"Linear Model\")\n",
    "plt.xlabel('#materii')\n",
    "plt.ylabel('nota')\n",
    "plt.legend()\n",
    "plt.show()"
   ]
  },
  {
   "cell_type": "code",
   "execution_count": 7,
   "metadata": {},
   "outputs": [],
   "source": [
    "def predict_nota(n:int):\n",
    "    '''n > nr note din set.\n",
    "        Predict n-th note.'''\n",
    "    \n",
    "    print(min(max(5,round(rbf_svr.predict([[n]])[0]+0.5)),10))"
   ]
  },
  {
   "cell_type": "code",
   "execution_count": 8,
   "metadata": {},
   "outputs": [
    {
     "data": {
      "text/plain": [
       "29"
      ]
     },
     "execution_count": 8,
     "metadata": {},
     "output_type": "execute_result"
    }
   ],
   "source": [
    "x[len(x)-1][0]"
   ]
  },
  {
   "cell_type": "code",
   "execution_count": 9,
   "metadata": {},
   "outputs": [
    {
     "name": "stdout",
     "output_type": "stream",
     "text": [
      "10\n"
     ]
    }
   ],
   "source": [
    "predict_nota(29)"
   ]
  },
  {
   "cell_type": "code",
   "execution_count": 10,
   "metadata": {},
   "outputs": [
    {
     "name": "stdout",
     "output_type": "stream",
     "text": [
      "[8.94395755]\n"
     ]
    }
   ],
   "source": [
    "print(rbf_svr.predict([[30]]))"
   ]
  },
  {
   "cell_type": "code",
   "execution_count": 11,
   "metadata": {},
   "outputs": [
    {
     "name": "stdout",
     "output_type": "stream",
     "text": [
      "<class 'numpy.float64'>\n"
     ]
    }
   ],
   "source": [
    "print(type(rbf_svr.predict([[30]])[0]))"
   ]
  },
  {
   "cell_type": "code",
   "execution_count": 12,
   "metadata": {},
   "outputs": [
    {
     "name": "stdout",
     "output_type": "stream",
     "text": [
      "10\n"
     ]
    }
   ],
   "source": [
    "print(min(max(5,round(rbf_svr.predict([[29]])[0]+0.5)),10))"
   ]
  },
  {
   "cell_type": "code",
   "execution_count": null,
   "metadata": {},
   "outputs": [],
   "source": []
  }
 ],
 "metadata": {
  "kernelspec": {
   "display_name": "Python 3",
   "language": "python",
   "name": "python3"
  },
  "language_info": {
   "codemirror_mode": {
    "name": "ipython",
    "version": 3
   },
   "file_extension": ".py",
   "mimetype": "text/x-python",
   "name": "python",
   "nbconvert_exporter": "python",
   "pygments_lexer": "ipython3",
   "version": "3.8.5"
  }
 },
 "nbformat": 4,
 "nbformat_minor": 4
}
